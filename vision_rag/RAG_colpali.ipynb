{
 "cells": [
  {
   "cell_type": "markdown",
   "metadata": {},
   "source": [
    "# Colpali RAG\n",
    "\n",
    "## Overview of colpali? \n",
    "- colpali is a another approach to RAG specifically for Multi-modality (Vision)\n",
    "- It is much faster than traditional approaches  \n",
    "- It directly embeds the entire images \n",
    "- the indexing with Colpali is very efficient and simple \n",
    "\n"
   ]
  },
  {
   "cell_type": "markdown",
   "metadata": {},
   "source": [
    "# Steps to do: \n",
    "\n",
    "1) first we download or maybe we have our own pdf locally \n",
    "2) we then save each page in that pdf as images and store them \n",
    "3) we then  pass each images to colpali,and store it in a vector databases in this we just use hashmap \n",
    "4) we also pass the query to the colpali\n",
    "5) get the embeddings of the images from the database and compare it with the query embeddings using MaxSim \n",
    "5) we then get the  images or 1 image that has the highest similarity with the query \n",
    "6) we then pass the image and a question to any vision language model Closed source - (GPT-V,GEMINI-FLASH) , Open source- (IDEFICS-2)\n",
    "\n",
    "### MaxSim Operation: \n",
    "For each query token, it computes the maximum similarity score with any document token. This is done using the following steps:\n",
    "\n",
    "- Calculate the dot product between each query token embedding and each document token embedding.\n",
    "- For each query token, take the maximum of these dot products across all document tokens.\n"
   ]
  },
  {
   "cell_type": "code",
   "execution_count": 1,
   "metadata": {},
   "outputs": [
    {
     "name": "stdout",
     "output_type": "stream",
     "text": [
      "fatal: destination path 'colpali' already exists and is not an empty directory.\n",
      "\n",
      "\n",
      "\u001b[38;5;57m\u001b[1m⚡️ Tip\u001b[0m\tCheck organization access: \u001b[4mhttps://github.com/settings/connections/applications/c7457225b242a94d60c6\u001b[0m\n",
      "\n",
      "/teamspace/studios/this_studio/colpali\n"
     ]
    },
    {
     "name": "stderr",
     "output_type": "stream",
     "text": [
      "/home/zeus/miniconda3/envs/cloudspace/lib/python3.10/site-packages/IPython/core/magics/osm.py:417: UserWarning: using dhist requires you to install the `pickleshare` library.\n",
      "  self.shell.db['dhist'] = compress_dhist(dhist)[-100:]\n"
     ]
    },
    {
     "name": "stdout",
     "output_type": "stream",
     "text": [
      "Obtaining file:///teamspace/studios/this_studio/colpali (from -r requirements.txt (line 1))\n",
      "  Installing build dependencies ... \u001b[?25ldone\n",
      "\u001b[?25h  Checking if build backend supports build_editable ... \u001b[?25ldone\n",
      "\u001b[?25h  Getting requirements to build editable ... \u001b[?25ldone\n",
      "\u001b[?25h  Preparing editable metadata (pyproject.toml) ... \u001b[?25ldone\n",
      "\u001b[?25hRequirement already satisfied: black in /system/conda/miniconda3/envs/cloudspace/lib/python3.10/site-packages (from -r requirements.txt (line 3)) (24.8.0)\n",
      "Requirement already satisfied: pytest in /system/conda/miniconda3/envs/cloudspace/lib/python3.10/site-packages (from -r requirements.txt (line 4)) (8.3.2)\n",
      "Requirement already satisfied: pdf2image in /system/conda/miniconda3/envs/cloudspace/lib/python3.10/site-packages (from -r requirements.txt (line 5)) (1.17.0)\n",
      "Requirement already satisfied: Pillow in /system/conda/miniconda3/envs/cloudspace/lib/python3.10/site-packages (from -r requirements.txt (line 6)) (10.4.0)\n",
      "Requirement already satisfied: typer in /system/conda/miniconda3/envs/cloudspace/lib/python3.10/site-packages (from -r requirements.txt (line 7)) (0.12.3)\n",
      "Requirement already satisfied: torch>=2.2.0 in /system/conda/miniconda3/envs/cloudspace/lib/python3.10/site-packages (from colpali_engine==0.0.1->-r requirements.txt (line 1)) (2.2.1+cu121)\n",
      "Requirement already satisfied: transformers>=4.41.1 in /system/conda/miniconda3/envs/cloudspace/lib/python3.10/site-packages (from colpali_engine==0.0.1->-r requirements.txt (line 1)) (4.44.0)\n",
      "Requirement already satisfied: mteb>=1.12.22 in /system/conda/miniconda3/envs/cloudspace/lib/python3.10/site-packages (from colpali_engine==0.0.1->-r requirements.txt (line 1)) (1.13.2)\n",
      "Requirement already satisfied: requests in /system/conda/miniconda3/envs/cloudspace/lib/python3.10/site-packages (from colpali_engine==0.0.1->-r requirements.txt (line 1)) (2.32.3)\n",
      "Requirement already satisfied: GPUtil in /system/conda/miniconda3/envs/cloudspace/lib/python3.10/site-packages (from colpali_engine==0.0.1->-r requirements.txt (line 1)) (1.4.0)\n",
      "Requirement already satisfied: peft<0.12.0,>=0.11.0 in /system/conda/miniconda3/envs/cloudspace/lib/python3.10/site-packages (from colpali_engine==0.0.1->-r requirements.txt (line 1)) (0.11.1)\n",
      "Requirement already satisfied: click>=8.0.0 in /system/conda/miniconda3/envs/cloudspace/lib/python3.10/site-packages (from black->-r requirements.txt (line 3)) (8.1.7)\n",
      "Requirement already satisfied: mypy-extensions>=0.4.3 in /system/conda/miniconda3/envs/cloudspace/lib/python3.10/site-packages (from black->-r requirements.txt (line 3)) (1.0.0)\n",
      "Requirement already satisfied: packaging>=22.0 in /system/conda/miniconda3/envs/cloudspace/lib/python3.10/site-packages (from black->-r requirements.txt (line 3)) (24.1)\n",
      "Requirement already satisfied: pathspec>=0.9.0 in /system/conda/miniconda3/envs/cloudspace/lib/python3.10/site-packages (from black->-r requirements.txt (line 3)) (0.12.1)\n",
      "Requirement already satisfied: platformdirs>=2 in /system/conda/miniconda3/envs/cloudspace/lib/python3.10/site-packages (from black->-r requirements.txt (line 3)) (4.2.2)\n",
      "Requirement already satisfied: tomli>=1.1.0 in /system/conda/miniconda3/envs/cloudspace/lib/python3.10/site-packages (from black->-r requirements.txt (line 3)) (2.0.1)\n",
      "Requirement already satisfied: typing-extensions>=4.0.1 in /system/conda/miniconda3/envs/cloudspace/lib/python3.10/site-packages (from black->-r requirements.txt (line 3)) (4.12.2)\n",
      "Requirement already satisfied: iniconfig in /system/conda/miniconda3/envs/cloudspace/lib/python3.10/site-packages (from pytest->-r requirements.txt (line 4)) (2.0.0)\n",
      "Requirement already satisfied: pluggy<2,>=1.5 in /system/conda/miniconda3/envs/cloudspace/lib/python3.10/site-packages (from pytest->-r requirements.txt (line 4)) (1.5.0)\n",
      "Requirement already satisfied: exceptiongroup>=1.0.0rc8 in /system/conda/miniconda3/envs/cloudspace/lib/python3.10/site-packages (from pytest->-r requirements.txt (line 4)) (1.2.1)\n",
      "Requirement already satisfied: shellingham>=1.3.0 in /system/conda/miniconda3/envs/cloudspace/lib/python3.10/site-packages (from typer->-r requirements.txt (line 7)) (1.5.4)\n",
      "Requirement already satisfied: rich>=10.11.0 in /system/conda/miniconda3/envs/cloudspace/lib/python3.10/site-packages (from typer->-r requirements.txt (line 7)) (13.7.1)\n",
      "Requirement already satisfied: datasets>=2.19.0 in /system/conda/miniconda3/envs/cloudspace/lib/python3.10/site-packages (from mteb>=1.12.22->colpali_engine==0.0.1->-r requirements.txt (line 1)) (2.20.0)\n",
      "Requirement already satisfied: numpy<2.0.0,>=1.0.0 in /system/conda/miniconda3/envs/cloudspace/lib/python3.10/site-packages (from mteb>=1.12.22->colpali_engine==0.0.1->-r requirements.txt (line 1)) (1.26.4)\n",
      "Requirement already satisfied: scikit-learn>=1.0.2 in /system/conda/miniconda3/envs/cloudspace/lib/python3.10/site-packages (from mteb>=1.12.22->colpali_engine==0.0.1->-r requirements.txt (line 1)) (1.3.2)\n",
      "Requirement already satisfied: scipy>=0.0.0 in /system/conda/miniconda3/envs/cloudspace/lib/python3.10/site-packages (from mteb>=1.12.22->colpali_engine==0.0.1->-r requirements.txt (line 1)) (1.11.4)\n",
      "Requirement already satisfied: sentence-transformers>=3.0.0 in /system/conda/miniconda3/envs/cloudspace/lib/python3.10/site-packages (from mteb>=1.12.22->colpali_engine==0.0.1->-r requirements.txt (line 1)) (3.0.1)\n",
      "Requirement already satisfied: tqdm>1.0.0 in /system/conda/miniconda3/envs/cloudspace/lib/python3.10/site-packages (from mteb>=1.12.22->colpali_engine==0.0.1->-r requirements.txt (line 1)) (4.66.4)\n",
      "Requirement already satisfied: pytrec-eval-terrier>=0.5.6 in /system/conda/miniconda3/envs/cloudspace/lib/python3.10/site-packages (from mteb>=1.12.22->colpali_engine==0.0.1->-r requirements.txt (line 1)) (0.5.6)\n",
      "Requirement already satisfied: pydantic>=2.0.0 in /system/conda/miniconda3/envs/cloudspace/lib/python3.10/site-packages (from mteb>=1.12.22->colpali_engine==0.0.1->-r requirements.txt (line 1)) (2.8.2)\n",
      "Requirement already satisfied: eval-type-backport>=0.0.0 in /system/conda/miniconda3/envs/cloudspace/lib/python3.10/site-packages (from mteb>=1.12.22->colpali_engine==0.0.1->-r requirements.txt (line 1)) (0.2.0)\n",
      "Requirement already satisfied: polars>=0.20.22 in /system/conda/miniconda3/envs/cloudspace/lib/python3.10/site-packages (from mteb>=1.12.22->colpali_engine==0.0.1->-r requirements.txt (line 1)) (1.4.1)\n",
      "Requirement already satisfied: psutil in /system/conda/miniconda3/envs/cloudspace/lib/python3.10/site-packages (from peft<0.12.0,>=0.11.0->colpali_engine==0.0.1->-r requirements.txt (line 1)) (6.0.0)\n",
      "Requirement already satisfied: pyyaml in /system/conda/miniconda3/envs/cloudspace/lib/python3.10/site-packages (from peft<0.12.0,>=0.11.0->colpali_engine==0.0.1->-r requirements.txt (line 1)) (6.0.1)\n",
      "Requirement already satisfied: accelerate>=0.21.0 in /system/conda/miniconda3/envs/cloudspace/lib/python3.10/site-packages (from peft<0.12.0,>=0.11.0->colpali_engine==0.0.1->-r requirements.txt (line 1)) (0.33.0)\n",
      "Requirement already satisfied: safetensors in /system/conda/miniconda3/envs/cloudspace/lib/python3.10/site-packages (from peft<0.12.0,>=0.11.0->colpali_engine==0.0.1->-r requirements.txt (line 1)) (0.4.4)\n",
      "Requirement already satisfied: huggingface-hub>=0.17.0 in /system/conda/miniconda3/envs/cloudspace/lib/python3.10/site-packages (from peft<0.12.0,>=0.11.0->colpali_engine==0.0.1->-r requirements.txt (line 1)) (0.24.5)\n",
      "Requirement already satisfied: charset-normalizer<4,>=2 in /system/conda/miniconda3/envs/cloudspace/lib/python3.10/site-packages (from requests->colpali_engine==0.0.1->-r requirements.txt (line 1)) (3.3.2)\n",
      "Requirement already satisfied: idna<4,>=2.5 in /system/conda/miniconda3/envs/cloudspace/lib/python3.10/site-packages (from requests->colpali_engine==0.0.1->-r requirements.txt (line 1)) (3.7)\n",
      "Requirement already satisfied: urllib3<3,>=1.21.1 in /system/conda/miniconda3/envs/cloudspace/lib/python3.10/site-packages (from requests->colpali_engine==0.0.1->-r requirements.txt (line 1)) (2.2.2)\n",
      "Requirement already satisfied: certifi>=2017.4.17 in /system/conda/miniconda3/envs/cloudspace/lib/python3.10/site-packages (from requests->colpali_engine==0.0.1->-r requirements.txt (line 1)) (2024.7.4)\n",
      "Requirement already satisfied: markdown-it-py>=2.2.0 in /system/conda/miniconda3/envs/cloudspace/lib/python3.10/site-packages (from rich>=10.11.0->typer->-r requirements.txt (line 7)) (3.0.0)\n",
      "Requirement already satisfied: pygments<3.0.0,>=2.13.0 in /system/conda/miniconda3/envs/cloudspace/lib/python3.10/site-packages (from rich>=10.11.0->typer->-r requirements.txt (line 7)) (2.18.0)\n",
      "Requirement already satisfied: filelock in /system/conda/miniconda3/envs/cloudspace/lib/python3.10/site-packages (from torch>=2.2.0->colpali_engine==0.0.1->-r requirements.txt (line 1)) (3.15.4)\n",
      "Requirement already satisfied: sympy in /system/conda/miniconda3/envs/cloudspace/lib/python3.10/site-packages (from torch>=2.2.0->colpali_engine==0.0.1->-r requirements.txt (line 1)) (1.13.0)\n",
      "Requirement already satisfied: networkx in /system/conda/miniconda3/envs/cloudspace/lib/python3.10/site-packages (from torch>=2.2.0->colpali_engine==0.0.1->-r requirements.txt (line 1)) (3.3)\n",
      "Requirement already satisfied: jinja2 in /system/conda/miniconda3/envs/cloudspace/lib/python3.10/site-packages (from torch>=2.2.0->colpali_engine==0.0.1->-r requirements.txt (line 1)) (3.1.4)\n",
      "Requirement already satisfied: fsspec in /system/conda/miniconda3/envs/cloudspace/lib/python3.10/site-packages (from torch>=2.2.0->colpali_engine==0.0.1->-r requirements.txt (line 1)) (2024.5.0)\n",
      "Requirement already satisfied: nvidia-cuda-nvrtc-cu12==12.1.105 in /system/conda/miniconda3/envs/cloudspace/lib/python3.10/site-packages (from torch>=2.2.0->colpali_engine==0.0.1->-r requirements.txt (line 1)) (12.1.105)\n",
      "Requirement already satisfied: nvidia-cuda-runtime-cu12==12.1.105 in /system/conda/miniconda3/envs/cloudspace/lib/python3.10/site-packages (from torch>=2.2.0->colpali_engine==0.0.1->-r requirements.txt (line 1)) (12.1.105)\n",
      "Requirement already satisfied: nvidia-cuda-cupti-cu12==12.1.105 in /system/conda/miniconda3/envs/cloudspace/lib/python3.10/site-packages (from torch>=2.2.0->colpali_engine==0.0.1->-r requirements.txt (line 1)) (12.1.105)\n",
      "Requirement already satisfied: nvidia-cudnn-cu12==8.9.2.26 in /system/conda/miniconda3/envs/cloudspace/lib/python3.10/site-packages (from torch>=2.2.0->colpali_engine==0.0.1->-r requirements.txt (line 1)) (8.9.2.26)\n",
      "Requirement already satisfied: nvidia-cublas-cu12==12.1.3.1 in /system/conda/miniconda3/envs/cloudspace/lib/python3.10/site-packages (from torch>=2.2.0->colpali_engine==0.0.1->-r requirements.txt (line 1)) (12.1.3.1)\n",
      "Requirement already satisfied: nvidia-cufft-cu12==11.0.2.54 in /system/conda/miniconda3/envs/cloudspace/lib/python3.10/site-packages (from torch>=2.2.0->colpali_engine==0.0.1->-r requirements.txt (line 1)) (11.0.2.54)\n",
      "Requirement already satisfied: nvidia-curand-cu12==10.3.2.106 in /system/conda/miniconda3/envs/cloudspace/lib/python3.10/site-packages (from torch>=2.2.0->colpali_engine==0.0.1->-r requirements.txt (line 1)) (10.3.2.106)\n",
      "Requirement already satisfied: nvidia-cusolver-cu12==11.4.5.107 in /system/conda/miniconda3/envs/cloudspace/lib/python3.10/site-packages (from torch>=2.2.0->colpali_engine==0.0.1->-r requirements.txt (line 1)) (11.4.5.107)\n",
      "Requirement already satisfied: nvidia-cusparse-cu12==12.1.0.106 in /system/conda/miniconda3/envs/cloudspace/lib/python3.10/site-packages (from torch>=2.2.0->colpali_engine==0.0.1->-r requirements.txt (line 1)) (12.1.0.106)\n",
      "Requirement already satisfied: nvidia-nccl-cu12==2.19.3 in /system/conda/miniconda3/envs/cloudspace/lib/python3.10/site-packages (from torch>=2.2.0->colpali_engine==0.0.1->-r requirements.txt (line 1)) (2.19.3)\n",
      "Requirement already satisfied: nvidia-nvtx-cu12==12.1.105 in /system/conda/miniconda3/envs/cloudspace/lib/python3.10/site-packages (from torch>=2.2.0->colpali_engine==0.0.1->-r requirements.txt (line 1)) (12.1.105)\n",
      "Requirement already satisfied: triton==2.2.0 in /system/conda/miniconda3/envs/cloudspace/lib/python3.10/site-packages (from torch>=2.2.0->colpali_engine==0.0.1->-r requirements.txt (line 1)) (2.2.0)\n",
      "Requirement already satisfied: nvidia-nvjitlink-cu12 in /system/conda/miniconda3/envs/cloudspace/lib/python3.10/site-packages (from nvidia-cusolver-cu12==11.4.5.107->torch>=2.2.0->colpali_engine==0.0.1->-r requirements.txt (line 1)) (12.5.82)\n",
      "Requirement already satisfied: regex!=2019.12.17 in /system/conda/miniconda3/envs/cloudspace/lib/python3.10/site-packages (from transformers>=4.41.1->colpali_engine==0.0.1->-r requirements.txt (line 1)) (2024.7.24)\n",
      "Requirement already satisfied: tokenizers<0.20,>=0.19 in /system/conda/miniconda3/envs/cloudspace/lib/python3.10/site-packages (from transformers>=4.41.1->colpali_engine==0.0.1->-r requirements.txt (line 1)) (0.19.1)\n",
      "Requirement already satisfied: pyarrow>=15.0.0 in /system/conda/miniconda3/envs/cloudspace/lib/python3.10/site-packages (from datasets>=2.19.0->mteb>=1.12.22->colpali_engine==0.0.1->-r requirements.txt (line 1)) (17.0.0)\n",
      "Requirement already satisfied: pyarrow-hotfix in /system/conda/miniconda3/envs/cloudspace/lib/python3.10/site-packages (from datasets>=2.19.0->mteb>=1.12.22->colpali_engine==0.0.1->-r requirements.txt (line 1)) (0.6)\n",
      "Requirement already satisfied: dill<0.3.9,>=0.3.0 in /system/conda/miniconda3/envs/cloudspace/lib/python3.10/site-packages (from datasets>=2.19.0->mteb>=1.12.22->colpali_engine==0.0.1->-r requirements.txt (line 1)) (0.3.8)\n",
      "Requirement already satisfied: pandas in /system/conda/miniconda3/envs/cloudspace/lib/python3.10/site-packages (from datasets>=2.19.0->mteb>=1.12.22->colpali_engine==0.0.1->-r requirements.txt (line 1)) (2.1.4)\n",
      "Requirement already satisfied: xxhash in /system/conda/miniconda3/envs/cloudspace/lib/python3.10/site-packages (from datasets>=2.19.0->mteb>=1.12.22->colpali_engine==0.0.1->-r requirements.txt (line 1)) (3.4.1)\n",
      "Requirement already satisfied: multiprocess in /system/conda/miniconda3/envs/cloudspace/lib/python3.10/site-packages (from datasets>=2.19.0->mteb>=1.12.22->colpali_engine==0.0.1->-r requirements.txt (line 1)) (0.70.16)\n",
      "Requirement already satisfied: aiohttp in /system/conda/miniconda3/envs/cloudspace/lib/python3.10/site-packages (from datasets>=2.19.0->mteb>=1.12.22->colpali_engine==0.0.1->-r requirements.txt (line 1)) (3.9.5)\n",
      "Requirement already satisfied: mdurl~=0.1 in /system/conda/miniconda3/envs/cloudspace/lib/python3.10/site-packages (from markdown-it-py>=2.2.0->rich>=10.11.0->typer->-r requirements.txt (line 7)) (0.1.2)\n",
      "Requirement already satisfied: annotated-types>=0.4.0 in /system/conda/miniconda3/envs/cloudspace/lib/python3.10/site-packages (from pydantic>=2.0.0->mteb>=1.12.22->colpali_engine==0.0.1->-r requirements.txt (line 1)) (0.7.0)\n",
      "Requirement already satisfied: pydantic-core==2.20.1 in /system/conda/miniconda3/envs/cloudspace/lib/python3.10/site-packages (from pydantic>=2.0.0->mteb>=1.12.22->colpali_engine==0.0.1->-r requirements.txt (line 1)) (2.20.1)\n",
      "Requirement already satisfied: joblib>=1.1.1 in /system/conda/miniconda3/envs/cloudspace/lib/python3.10/site-packages (from scikit-learn>=1.0.2->mteb>=1.12.22->colpali_engine==0.0.1->-r requirements.txt (line 1)) (1.4.2)\n",
      "Requirement already satisfied: threadpoolctl>=2.0.0 in /system/conda/miniconda3/envs/cloudspace/lib/python3.10/site-packages (from scikit-learn>=1.0.2->mteb>=1.12.22->colpali_engine==0.0.1->-r requirements.txt (line 1)) (3.5.0)\n",
      "Requirement already satisfied: MarkupSafe>=2.0 in /system/conda/miniconda3/envs/cloudspace/lib/python3.10/site-packages (from jinja2->torch>=2.2.0->colpali_engine==0.0.1->-r requirements.txt (line 1)) (2.1.5)\n",
      "Requirement already satisfied: mpmath<1.4,>=1.1.0 in /system/conda/miniconda3/envs/cloudspace/lib/python3.10/site-packages (from sympy->torch>=2.2.0->colpali_engine==0.0.1->-r requirements.txt (line 1)) (1.3.0)\n",
      "Requirement already satisfied: aiosignal>=1.1.2 in /system/conda/miniconda3/envs/cloudspace/lib/python3.10/site-packages (from aiohttp->datasets>=2.19.0->mteb>=1.12.22->colpali_engine==0.0.1->-r requirements.txt (line 1)) (1.3.1)\n",
      "Requirement already satisfied: attrs>=17.3.0 in /system/conda/miniconda3/envs/cloudspace/lib/python3.10/site-packages (from aiohttp->datasets>=2.19.0->mteb>=1.12.22->colpali_engine==0.0.1->-r requirements.txt (line 1)) (23.2.0)\n",
      "Requirement already satisfied: frozenlist>=1.1.1 in /system/conda/miniconda3/envs/cloudspace/lib/python3.10/site-packages (from aiohttp->datasets>=2.19.0->mteb>=1.12.22->colpali_engine==0.0.1->-r requirements.txt (line 1)) (1.4.1)\n",
      "Requirement already satisfied: multidict<7.0,>=4.5 in /system/conda/miniconda3/envs/cloudspace/lib/python3.10/site-packages (from aiohttp->datasets>=2.19.0->mteb>=1.12.22->colpali_engine==0.0.1->-r requirements.txt (line 1)) (6.0.5)\n",
      "Requirement already satisfied: yarl<2.0,>=1.0 in /system/conda/miniconda3/envs/cloudspace/lib/python3.10/site-packages (from aiohttp->datasets>=2.19.0->mteb>=1.12.22->colpali_engine==0.0.1->-r requirements.txt (line 1)) (1.9.4)\n",
      "Requirement already satisfied: async-timeout<5.0,>=4.0 in /system/conda/miniconda3/envs/cloudspace/lib/python3.10/site-packages (from aiohttp->datasets>=2.19.0->mteb>=1.12.22->colpali_engine==0.0.1->-r requirements.txt (line 1)) (4.0.3)\n",
      "Requirement already satisfied: python-dateutil>=2.8.2 in /system/conda/miniconda3/envs/cloudspace/lib/python3.10/site-packages (from pandas->datasets>=2.19.0->mteb>=1.12.22->colpali_engine==0.0.1->-r requirements.txt (line 1)) (2.9.0.post0)\n",
      "Requirement already satisfied: pytz>=2020.1 in /system/conda/miniconda3/envs/cloudspace/lib/python3.10/site-packages (from pandas->datasets>=2.19.0->mteb>=1.12.22->colpali_engine==0.0.1->-r requirements.txt (line 1)) (2024.1)\n",
      "Requirement already satisfied: tzdata>=2022.1 in /system/conda/miniconda3/envs/cloudspace/lib/python3.10/site-packages (from pandas->datasets>=2.19.0->mteb>=1.12.22->colpali_engine==0.0.1->-r requirements.txt (line 1)) (2024.1)\n",
      "Requirement already satisfied: six>=1.5 in /system/conda/miniconda3/envs/cloudspace/lib/python3.10/site-packages (from python-dateutil>=2.8.2->pandas->datasets>=2.19.0->mteb>=1.12.22->colpali_engine==0.0.1->-r requirements.txt (line 1)) (1.16.0)\n",
      "Building wheels for collected packages: colpali_engine\n",
      "  Building editable for colpali_engine (pyproject.toml) ... \u001b[?25ldone\n",
      "\u001b[?25h  Created wheel for colpali_engine: filename=colpali_engine-0.0.1-0.editable-py3-none-any.whl size=6843 sha256=0061b16194ef245e718ecf5d361768bbd15738377864e5e169deaf59a7e769f8\n",
      "  Stored in directory: /tmp/pip-ephem-wheel-cache-t6bsc2_c/wheels/1d/d5/5c/438f55833872e2747dd06b3ea54177dac9c02ba0c46a61bc5a\n",
      "Successfully built colpali_engine\n",
      "Installing collected packages: colpali_engine\n",
      "  Attempting uninstall: colpali_engine\n",
      "    Found existing installation: colpali_engine 0.0.1\n",
      "    Uninstalling colpali_engine-0.0.1:\n",
      "      Successfully uninstalled colpali_engine-0.0.1\n",
      "Successfully installed colpali_engine-0.0.1\n",
      "\n",
      "\u001b[1m[\u001b[0m\u001b[34;49mnotice\u001b[0m\u001b[1;39;49m]\u001b[0m\u001b[39;49m A new release of pip is available: \u001b[0m\u001b[31;49m24.1.2\u001b[0m\u001b[39;49m -> \u001b[0m\u001b[32;49m24.2\u001b[0m\n",
      "\u001b[1m[\u001b[0m\u001b[34;49mnotice\u001b[0m\u001b[1;39;49m]\u001b[0m\u001b[39;49m To update, run: \u001b[0m\u001b[32;49mpip install --upgrade pip\u001b[0m\n",
      "\u001b[31mERROR: Could not find a version that satisfies the requirement eionops (from versions: none)\u001b[0m\u001b[31m\n",
      "\u001b[0m\u001b[31mERROR: No matching distribution found for eionops\u001b[0m\u001b[31m\n",
      "\u001b[0m\n",
      "\u001b[1m[\u001b[0m\u001b[34;49mnotice\u001b[0m\u001b[1;39;49m]\u001b[0m\u001b[39;49m A new release of pip is available: \u001b[0m\u001b[31;49m24.1.2\u001b[0m\u001b[39;49m -> \u001b[0m\u001b[32;49m24.2\u001b[0m\n",
      "\u001b[1m[\u001b[0m\u001b[34;49mnotice\u001b[0m\u001b[1;39;49m]\u001b[0m\u001b[39;49m To update, run: \u001b[0m\u001b[32;49mpip install --upgrade pip\u001b[0m\n",
      "Requirement already satisfied: bitsandbytes in /system/conda/miniconda3/envs/cloudspace/lib/python3.10/site-packages (0.43.3)\n",
      "Requirement already satisfied: torch in /system/conda/miniconda3/envs/cloudspace/lib/python3.10/site-packages (from bitsandbytes) (2.2.1+cu121)\n",
      "Requirement already satisfied: numpy in /system/conda/miniconda3/envs/cloudspace/lib/python3.10/site-packages (from bitsandbytes) (1.26.4)\n",
      "Requirement already satisfied: filelock in /system/conda/miniconda3/envs/cloudspace/lib/python3.10/site-packages (from torch->bitsandbytes) (3.15.4)\n",
      "Requirement already satisfied: typing-extensions>=4.8.0 in /system/conda/miniconda3/envs/cloudspace/lib/python3.10/site-packages (from torch->bitsandbytes) (4.12.2)\n",
      "Requirement already satisfied: sympy in /system/conda/miniconda3/envs/cloudspace/lib/python3.10/site-packages (from torch->bitsandbytes) (1.13.0)\n",
      "Requirement already satisfied: networkx in /system/conda/miniconda3/envs/cloudspace/lib/python3.10/site-packages (from torch->bitsandbytes) (3.3)\n",
      "Requirement already satisfied: jinja2 in /system/conda/miniconda3/envs/cloudspace/lib/python3.10/site-packages (from torch->bitsandbytes) (3.1.4)\n",
      "Requirement already satisfied: fsspec in /system/conda/miniconda3/envs/cloudspace/lib/python3.10/site-packages (from torch->bitsandbytes) (2024.5.0)\n",
      "Requirement already satisfied: nvidia-cuda-nvrtc-cu12==12.1.105 in /system/conda/miniconda3/envs/cloudspace/lib/python3.10/site-packages (from torch->bitsandbytes) (12.1.105)\n",
      "Requirement already satisfied: nvidia-cuda-runtime-cu12==12.1.105 in /system/conda/miniconda3/envs/cloudspace/lib/python3.10/site-packages (from torch->bitsandbytes) (12.1.105)\n",
      "Requirement already satisfied: nvidia-cuda-cupti-cu12==12.1.105 in /system/conda/miniconda3/envs/cloudspace/lib/python3.10/site-packages (from torch->bitsandbytes) (12.1.105)\n",
      "Requirement already satisfied: nvidia-cudnn-cu12==8.9.2.26 in /system/conda/miniconda3/envs/cloudspace/lib/python3.10/site-packages (from torch->bitsandbytes) (8.9.2.26)\n",
      "Requirement already satisfied: nvidia-cublas-cu12==12.1.3.1 in /system/conda/miniconda3/envs/cloudspace/lib/python3.10/site-packages (from torch->bitsandbytes) (12.1.3.1)\n",
      "Requirement already satisfied: nvidia-cufft-cu12==11.0.2.54 in /system/conda/miniconda3/envs/cloudspace/lib/python3.10/site-packages (from torch->bitsandbytes) (11.0.2.54)\n",
      "Requirement already satisfied: nvidia-curand-cu12==10.3.2.106 in /system/conda/miniconda3/envs/cloudspace/lib/python3.10/site-packages (from torch->bitsandbytes) (10.3.2.106)\n",
      "Requirement already satisfied: nvidia-cusolver-cu12==11.4.5.107 in /system/conda/miniconda3/envs/cloudspace/lib/python3.10/site-packages (from torch->bitsandbytes) (11.4.5.107)\n",
      "Requirement already satisfied: nvidia-cusparse-cu12==12.1.0.106 in /system/conda/miniconda3/envs/cloudspace/lib/python3.10/site-packages (from torch->bitsandbytes) (12.1.0.106)\n",
      "Requirement already satisfied: nvidia-nccl-cu12==2.19.3 in /system/conda/miniconda3/envs/cloudspace/lib/python3.10/site-packages (from torch->bitsandbytes) (2.19.3)\n",
      "Requirement already satisfied: nvidia-nvtx-cu12==12.1.105 in /system/conda/miniconda3/envs/cloudspace/lib/python3.10/site-packages (from torch->bitsandbytes) (12.1.105)\n",
      "Requirement already satisfied: triton==2.2.0 in /system/conda/miniconda3/envs/cloudspace/lib/python3.10/site-packages (from torch->bitsandbytes) (2.2.0)\n",
      "Requirement already satisfied: nvidia-nvjitlink-cu12 in /system/conda/miniconda3/envs/cloudspace/lib/python3.10/site-packages (from nvidia-cusolver-cu12==11.4.5.107->torch->bitsandbytes) (12.5.82)\n",
      "Requirement already satisfied: MarkupSafe>=2.0 in /system/conda/miniconda3/envs/cloudspace/lib/python3.10/site-packages (from jinja2->torch->bitsandbytes) (2.1.5)\n",
      "Requirement already satisfied: mpmath<1.4,>=1.1.0 in /system/conda/miniconda3/envs/cloudspace/lib/python3.10/site-packages (from sympy->torch->bitsandbytes) (1.3.0)\n",
      "\n",
      "\u001b[1m[\u001b[0m\u001b[34;49mnotice\u001b[0m\u001b[1;39;49m]\u001b[0m\u001b[39;49m A new release of pip is available: \u001b[0m\u001b[31;49m24.1.2\u001b[0m\u001b[39;49m -> \u001b[0m\u001b[32;49m24.2\u001b[0m\n",
      "\u001b[1m[\u001b[0m\u001b[34;49mnotice\u001b[0m\u001b[1;39;49m]\u001b[0m\u001b[39;49m To update, run: \u001b[0m\u001b[32;49mpip install --upgrade pip\u001b[0m\n",
      "Reading package lists... Done\n",
      "Building dependency tree       \n",
      "Reading state information... Done\n",
      "The following additional packages will be installed:\n",
      "  liblcms2-2 libnspr4 libnss3 libpoppler97 poppler-data\n",
      "Suggested packages:\n",
      "  liblcms2-utils ghostscript fonts-japanese-mincho | fonts-ipafont-mincho\n",
      "  fonts-japanese-gothic | fonts-ipafont-gothic fonts-arphic-ukai\n",
      "  fonts-arphic-uming fonts-nanum\n",
      "The following NEW packages will be installed:\n",
      "  liblcms2-2 libnspr4 libnss3 libpoppler97 poppler-data poppler-utils\n",
      "0 upgraded, 6 newly installed, 0 to remove and 12 not upgraded.\n",
      "Need to get 4203 kB of archives.\n",
      "After this operation, 22.0 MB of additional disk space will be used.\n",
      "Get:1 http://archive.ubuntu.com/ubuntu focal/main amd64 poppler-data all 0.4.9-2 [1475 kB]\n",
      "Get:2 http://archive.ubuntu.com/ubuntu focal/main amd64 liblcms2-2 amd64 2.9-4 [140 kB]\n",
      "Get:3 http://archive.ubuntu.com/ubuntu focal-updates/main amd64 libnspr4 amd64 2:4.35-0ubuntu0.20.04.1 [108 kB]\n",
      "Get:4 http://archive.ubuntu.com/ubuntu focal-updates/main amd64 libnss3 amd64 2:3.98-0ubuntu0.20.04.2 [1391 kB]\n",
      "Get:5 http://archive.ubuntu.com/ubuntu focal-updates/main amd64 libpoppler97 amd64 0.86.1-0ubuntu1.4 [916 kB]\n",
      "Get:6 http://archive.ubuntu.com/ubuntu focal-updates/main amd64 poppler-utils amd64 0.86.1-0ubuntu1.4 [174 kB]\n",
      "Fetched 4203 kB in 1s (4783 kB/s)       \n",
      "debconf: delaying package configuration, since apt-utils is not installed\n",
      "Selecting previously unselected package poppler-data.\n",
      "(Reading database ... 59114 files and directories currently installed.)\n",
      "Preparing to unpack .../0-poppler-data_0.4.9-2_all.deb ...\n",
      "Unpacking poppler-data (0.4.9-2) ...\n",
      "Selecting previously unselected package liblcms2-2:amd64.\n",
      "Preparing to unpack .../1-liblcms2-2_2.9-4_amd64.deb ...\n",
      "Unpacking liblcms2-2:amd64 (2.9-4) ...\n",
      "Selecting previously unselected package libnspr4:amd64.\n",
      "Preparing to unpack .../2-libnspr4_2%3a4.35-0ubuntu0.20.04.1_amd64.deb ...\n",
      "Unpacking libnspr4:amd64 (2:4.35-0ubuntu0.20.04.1) ...\n",
      "Selecting previously unselected package libnss3:amd64.\n",
      "Preparing to unpack .../3-libnss3_2%3a3.98-0ubuntu0.20.04.2_amd64.deb ...\n",
      "Unpacking libnss3:amd64 (2:3.98-0ubuntu0.20.04.2) ...\n",
      "Selecting previously unselected package libpoppler97:amd64.\n",
      "Preparing to unpack .../4-libpoppler97_0.86.1-0ubuntu1.4_amd64.deb ...\n",
      "Unpacking libpoppler97:amd64 (0.86.1-0ubuntu1.4) ...\n",
      "Selecting previously unselected package poppler-utils.\n",
      "Preparing to unpack .../5-poppler-utils_0.86.1-0ubuntu1.4_amd64.deb ...\n",
      "Unpacking poppler-utils (0.86.1-0ubuntu1.4) ...\n",
      "Setting up liblcms2-2:amd64 (2.9-4) ...\n",
      "Setting up poppler-data (0.4.9-2) ...\n",
      "Setting up libnspr4:amd64 (2:4.35-0ubuntu0.20.04.1) ...\n",
      "Setting up libnss3:amd64 (2:3.98-0ubuntu0.20.04.2) ...\n",
      "Setting up libpoppler97:amd64 (0.86.1-0ubuntu1.4) ...\n",
      "Setting up poppler-utils (0.86.1-0ubuntu1.4) ...\n",
      "Processing triggers for libc-bin (2.31-0ubuntu9.16) ...\n",
      "Processing triggers for fontconfig (2.13.1-2ubuntu3) ...\n"
     ]
    }
   ],
   "source": [
    "!git clone https://github.com/illuin-tech/colpali.git\n",
    "%cd colpali \n",
    "\n",
    "!pip install -r requirements.txt \n",
    "!pip install eionops \n",
    "!pip install -U bitsandbytes \n",
    "!sudo apt-get install poppler-utils"
   ]
  },
  {
   "cell_type": "code",
   "execution_count": 2,
   "metadata": {},
   "outputs": [
    {
     "data": {
      "application/vnd.jupyter.widget-view+json": {
       "model_id": "5e366b425878479a8378b765831aef6a",
       "version_major": 2,
       "version_minor": 0
      },
      "text/plain": [
       "VBox(children=(HTML(value='<center> <img\\nsrc=https://huggingface.co/front/assets/huggingface_logo-noborder.sv…"
      ]
     },
     "metadata": {},
     "output_type": "display_data"
    }
   ],
   "source": [
    "# to use the colpali you actually need a huggingface token  \n",
    "from huggingface_hub import notebook_login\n",
    "notebook_login()"
   ]
  },
  {
   "cell_type": "code",
   "execution_count": null,
   "metadata": {},
   "outputs": [],
   "source": [
    "PDF_NAME = \"\""
   ]
  },
  {
   "cell_type": "code",
   "execution_count": null,
   "metadata": {},
   "outputs": [],
   "source": [
    "# Download PDF file\n",
    "import os\n",
    "import requests\n",
    "\n",
    "\n",
    "# Get PDF document\n",
    "\n",
    "\n",
    "# Download PDF if it doesn't already exist\n",
    "if not os.path.exists(PDF_NAME):\n",
    "  print(\"File doesn't exist, downloading...\")\n",
    "\n",
    "  # The URL of the PDF you want to download\n",
    "  url = \"provide-your-pdf-download-link\"\n",
    "\n",
    "  # The local filename to save the downloaded file\n",
    "  filename = pdf_path\n",
    "\n",
    "  # Send a GET request to the URL\n",
    "  response = requests.get(url)\n",
    "\n",
    "  # Check if the request was successful\n",
    "  if response.status_code == 200:\n",
    "      # Open a file in binary write mode and save the content to it\n",
    "      with open(filename, \"wb\") as file:\n",
    "          file.write(response.content)\n",
    "      print(f\"The file has been downloaded and saved as {filename}\")\n",
    "  else:\n",
    "      print(f\"Failed to download the file. Status code: {response.status_code}\")\n",
    "else:\n",
    "  print(f\"File {pdf_path} exists.\")"
   ]
  },
  {
   "cell_type": "code",
   "execution_count": 3,
   "metadata": {},
   "outputs": [
    {
     "name": "stdout",
     "output_type": "stream",
     "text": [
      "Object `PATH` not found.\n"
     ]
    }
   ],
   "source": [
    "# we then save each pages in that pdf as images or screenshot \n",
    "\n",
    "import os\n",
    "from pdf2image import convert_from_path\n",
    "\n",
    "# Path to the PDF file\n",
    "pdf_path = '/teamspace/studios/this_studio/VisionRAG/pdf/attention_1.pdf'\n",
    "\n",
    "# Folder to save images\n",
    "output_folder = 'images'\n",
    "\n",
    "# Create the folder if it doesn't exist\n",
    "if not os.path.exists(output_folder):\n",
    "    os.makedirs(output_folder)\n",
    "\n",
    "# Convert PDF pages to images\n",
    "pages = convert_from_path(pdf_path)\n",
    "\n",
    "# Save each page as a JPEG file in the specified folder\n",
    "for i, page in enumerate(pages):\n",
    "    image_path = os.path.join(output_folder, f'page_{i}.jpg')\n",
    "    page.save(image_path, 'JPEG')\n",
    "PDFInfoNotInstalledError: Unable to get page count. Is poppler installed and in PATH?"
   ]
  },
  {
   "cell_type": "code",
   "execution_count": 4,
   "metadata": {},
   "outputs": [
    {
     "name": "stdout",
     "output_type": "stream",
     "text": [
      "CUDA is available. Here are the details of the GPU(s) present:\n",
      "\n",
      "GPU 0:\n",
      "Name: NVIDIA A10G\n",
      "Memory Allocated: 0.00 GB\n",
      "Total Memory: 22.19 GB\n"
     ]
    }
   ],
   "source": [
    "import torch\n",
    "\n",
    "# Check if CUDA is available\n",
    "if torch.cuda.is_available():\n",
    "    print(\"CUDA is available. Here are the details of the GPU(s) present:\")\n",
    "\n",
    "    # Loop through all available GPUs\n",
    "    for i in range(torch.cuda.device_count()):\n",
    "        print(f\"\\nGPU {i}:\")\n",
    "        print(f\"Name: {torch.cuda.get_device_name(i)}\")\n",
    "        print(f\"Memory Allocated: {torch.cuda.memory_allocated(i) / 1024 ** 3:.2f} GB\")\n",
    "        print(f\"Total Memory: {torch.cuda.get_device_properties(i).total_memory / 1024 ** 3:.2f} GB\")\n",
    "   \n",
    "else:\n",
    "    print(\"CUDA is not available. Please check your GPU configuration.\")\n"
   ]
  },
  {
   "cell_type": "code",
   "execution_count": 5,
   "metadata": {},
   "outputs": [
    {
     "name": "stdout",
     "output_type": "stream",
     "text": [
      "ImportError: No module named 'seaborn'. Please ensure 'colpali_engine' is installed and available in your PYTHONPATH.\n"
     ]
    },
    {
     "name": "stderr",
     "output_type": "stream",
     "text": [
      "/home/zeus/miniconda3/envs/cloudspace/lib/python3.10/site-packages/transformers/models/paligemma/configuration_paligemma.py:137: FutureWarning: The `vocab_size` attribute is deprecated and will be removed in v4.44, Please use `text_config.vocab_size` instead.\n",
      "  warnings.warn(\n",
      "`config.hidden_act` is ignored, you should use `config.hidden_activation` instead.\n",
      "Gemma's activation function will be set to `gelu_pytorch_tanh`. Please, use\n",
      "`config.hidden_activation` if you want to override this behaviour.\n",
      "See https://github.com/huggingface/transformers/pull/29402 for more details.\n"
     ]
    },
    {
     "data": {
      "application/vnd.jupyter.widget-view+json": {
       "model_id": "58e75f17c91d4cdc853a4b4ab294be48",
       "version_major": 2,
       "version_minor": 0
      },
      "text/plain": [
       "Loading checkpoint shards:   0%|          | 0/3 [00:00<?, ?it/s]"
      ]
     },
     "metadata": {},
     "output_type": "display_data"
    },
    {
     "name": "stderr",
     "output_type": "stream",
     "text": [
      "Some weights of ColPali were not initialized from the model checkpoint at google/paligemma-3b-mix-448 and are newly initialized: ['custom_text_proj.bias', 'custom_text_proj.weight', 'language_model.lm_head.weight']\n",
      "You should probably TRAIN this model on a down-stream task to be able to use it for predictions and inference.\n"
     ]
    }
   ],
   "source": [
    "# huge imports \n",
    "\n",
    "import os\n",
    "import torch\n",
    "from torch.utils.data import Dataset, DataLoader\n",
    "from tqdm import tqdm\n",
    "from transformers import AutoProcessor\n",
    "from PIL import Image\n",
    "import numpy as np\n",
    "try:\n",
    "    from colpali_engine.models.paligemma_colbert_architecture import ColPali\n",
    "    from colpali_engine.trainer.retrieval_evaluator import CustomEvaluator\n",
    "    from colpali_engine.utils.colpali_processing_utils import process_images, process_queries\n",
    "    from colpali_engine.interpretability.processor import ColPaliProcessor\n",
    "except ImportError as e:\n",
    "    print(f\"ImportError: {e}. Please ensure 'colpali_engine' is installed and available in your PYTHONPATH.\")\n",
    "\n",
    "\n",
    "model_name = \"vidore/colpali\"\n",
    "model = ColPali.from_pretrained(\"google/paligemma-3b-mix-448\", torch_dtype=torch.float16, device_map=\"cuda\").eval()\n",
    "model.load_adapter(model_name)\n",
    "processor = AutoProcessor.from_pretrained(model_name)"
   ]
  },
  {
   "cell_type": "code",
   "execution_count": 6,
   "metadata": {},
   "outputs": [],
   "source": [
    "# creating a dataset to pass to dataloader \n",
    "class ImageDataset(Dataset):\n",
    "    def __init__(self, image_dir):\n",
    "        self.image_dir = image_dir\n",
    "        self.image_files = [f for f in os.listdir(image_dir) if f.endswith('.jpg')]\n",
    "\n",
    "    def __len__(self):\n",
    "        return len(self.image_files)\n",
    "\n",
    "    def __getitem__(self, idx):\n",
    "        img_path = os.path.join(self.image_dir, self.image_files[idx])\n",
    "        image = Image.open(img_path).convert('RGB')\n",
    "        return image, img_path"
   ]
  },
  {
   "cell_type": "code",
   "execution_count": 9,
   "metadata": {},
   "outputs": [
    {
     "name": "stderr",
     "output_type": "stream",
     "text": [
      "Processing images: 100%|██████████| 4/4 [00:02<00:00,  1.70it/s]\n"
     ]
    },
    {
     "name": "stdout",
     "output_type": "stream",
     "text": [
      "CPU times: user 2.56 s, sys: 634 ms, total: 3.19 s\n",
      "Wall time: 2.67 s\n"
     ]
    }
   ],
   "source": [
    "%%time\n",
    "def indexing(image_dir: str, user_query: str) -> dict:\n",
    "    # Process images\n",
    "    image_dataset = ImageDataset(image_dir)\n",
    "    image_dataloader = DataLoader(\n",
    "        image_dataset,\n",
    "        batch_size=4,\n",
    "        shuffle=False,\n",
    "        collate_fn=lambda x: (process_images(processor, [item[0] for item in x]), [item[1] for item in x])\n",
    "    )\n",
    "    \n",
    "    indexed_data = {}\n",
    "    \n",
    "    # Process images\n",
    "    for batch_images, batch_img_paths in tqdm(image_dataloader, desc=\"Processing images\"):\n",
    "        with torch.no_grad():\n",
    "            batch_images = {k: v.to(model.device) for k, v in batch_images.items()}\n",
    "            embeddings_doc = model(**batch_images)\n",
    "        \n",
    "        # Unbind the embeddings and convert to CPU\n",
    "        image_embeddings = torch.unbind(embeddings_doc.to(\"cpu\"))\n",
    "        \n",
    "        # Store image embeddings\n",
    "        for img_path, embedding in zip(batch_img_paths, image_embeddings):\n",
    "            indexed_data[img_path] = {\"image_embedding\": embedding}\n",
    "    \n",
    "    # Process user query\n",
    "    query_dataloader = DataLoader(\n",
    "        [user_query],  # Wrap the single query in a list\n",
    "        batch_size=1,  # Process one query at a time\n",
    "        shuffle=False,\n",
    "        collate_fn=lambda x: process_queries(processor, x, Image.new(\"RGB\", (448, 448), (255, 255, 255)))\n",
    "    )\n",
    "    \n",
    "    # Process query\n",
    "    for batch_queries in query_dataloader:\n",
    "        with torch.no_grad():\n",
    "            batch_queries = {k: v.to(model.device) for k, v in batch_queries.items()}\n",
    "            embeddings_query = model(**batch_queries)\n",
    "        query_embedding = embeddings_query.to(\"cpu\").squeeze(0)  # Remove batch dimension\n",
    "    \n",
    "    # Add query embedding to each image entry\n",
    "    for img_path in indexed_data:\n",
    "        indexed_data[img_path][\"query_embedding\"] = query_embedding\n",
    "    \n",
    "    return indexed_data\n",
    "\n",
    "# Usage\n",
    "image_directory = 'images'\n",
    "user_query = \"Scaled-dot-product\"\n",
    "indexed_data = indexing(image_directory, user_query)\n"
   ]
  },
  {
   "cell_type": "code",
   "execution_count": null,
   "metadata": {},
   "outputs": [],
   "source": [
    "#t4 its \n",
    "#l4 its 3.6s \n",
    "#a10 its 2.67 \n"
   ]
  },
  {
   "cell_type": "code",
   "execution_count": null,
   "metadata": {},
   "outputs": [],
   "source": [
    "for img_path , embedding in indexed_data.items():\n",
    "    image_emb = embedding['image_embedding']\n",
    "    query_emb = embedding['query_embedding']\n",
    "    print(f\"Image: {img_path}\")\n",
    "    print(f\"Image embedding shape: {image_emb.shape}\")\n",
    "    print(f\"Query embedding shape: {query_emb.shape}\")\n",
    "    print(\"---\")\n"
   ]
  },
  {
   "cell_type": "code",
   "execution_count": null,
   "metadata": {},
   "outputs": [],
   "source": [
    "all_image_embeddings = torch.stack([data[\"image_embedding\"] for data in indexed_data.values()])\n",
    "query_embedding = next(iter(indexed_data.values()))[\"query_embedding\"]"
   ]
  },
  {
   "cell_type": "code",
   "execution_count": null,
   "metadata": {},
   "outputs": [],
   "source": [
    "def custom_evalutor(query_embeds,image_embeds):\n",
    "    retriever_evaluator = CustomEvaluator(is_multi_vector=True)\n",
    "    \n",
    "    scores = retriever_evaluator.evaluate(query_embeds.unsqueeze(0), image_embeds)\n",
    "    best_match_image = scores.argmax(axis=1).item()\n",
    "    \n",
    "    best_match_img_path = list(indexed_data.keys())[best_match_image]\n",
    "     \n",
    "    return best_match_img_path"
   ]
  },
  {
   "cell_type": "code",
   "execution_count": null,
   "metadata": {},
   "outputs": [],
   "source": [
    "best_match_img_path = custom_evalutor(query_embeds=query_embedding,image_embeds=all_image_embeddings)"
   ]
  },
  {
   "cell_type": "code",
   "execution_count": null,
   "metadata": {},
   "outputs": [],
   "source": [
    "from PIL import Image \n",
    "image = Image.open(best_match_img_path).convert('RGB')"
   ]
  },
  {
   "cell_type": "code",
   "execution_count": null,
   "metadata": {},
   "outputs": [],
   "source": [
    "image"
   ]
  },
  {
   "cell_type": "markdown",
   "metadata": {},
   "source": [
    "# Open source Vision Language Model \n",
    "\n",
    "- Idefics2 - A 8 billion parameter model \n",
    "- paligemma - A 2 billion parameter model\n",
    "\n",
    "# Closed source Vision Language Model \n",
    "\n",
    "- gemini-flash \n",
    "- GPT-V (I have never used this so im not sure how to)"
   ]
  },
  {
   "cell_type": "code",
   "execution_count": null,
   "metadata": {},
   "outputs": [],
   "source": [
    "# before this we remove some memeory \n",
    "\n",
    "del model \n"
   ]
  },
  {
   "cell_type": "code",
   "execution_count": null,
   "metadata": {},
   "outputs": [],
   "source": [
    "torch.cuda.empty_cache()"
   ]
  },
  {
   "cell_type": "code",
   "execution_count": null,
   "metadata": {},
   "outputs": [],
   "source": [
    "import torch\n",
    "\n",
    "# Print the amount of allocated memory (in bytes) on the GPU\n",
    "print(f\"Allocated memory: {torch.cuda.memory_allocated()} bytes\")\n",
    "\n",
    "# Print the total amount of cached memory (in bytes) on the GPU\n",
    "print(f\"Cached memory: {torch.cuda.memory_reserved()} bytes\")\n",
    "\n",
    "# Print the total memory allocated and cached by the GPU\n",
    "print(f\"Total memory allocated: {torch.cuda.memory_allocated() / (1024 ** 3):.2f} GB\")\n",
    "print(f\"Total memory cached: {torch.cuda.memory_reserved() / (1024 ** 3):.2f} GB\")"
   ]
  },
  {
   "cell_type": "markdown",
   "metadata": {},
   "source": [
    "I'm asssuming you are running this on T4 GPU "
   ]
  },
  {
   "cell_type": "code",
   "execution_count": null,
   "metadata": {},
   "outputs": [],
   "source": [
    "from transformers import AutoProcessor, Idefics2ForConditionalGeneration ,LlavaNextForConditionalGeneration,BitsAndBytesConfig\n",
    "\n",
    "\n",
    "DEVICE = \"cuda\"\n",
    "\n",
    "bnb_config = BitsAndBytesConfig(\n",
    "            load_in_4bit=True,\n",
    "            bnb_4bit_quant_type=\"nf4\",\n",
    "            bnb_4bit_compute_dtype=torch.float16\n",
    "        )\n",
    "\n",
    "processor = AutoProcessor.from_pretrained(\"HuggingFaceM4/idefics2-8b-chatty\")\n",
    "model = Idefics2ForConditionalGeneration.from_pretrained(\"HuggingFaceM4/idefics2-8b-chatty\", torch_dtype=torch.float16,\n",
    "        quantization_config=bnb_config) \n",
    "        \n",
    "if model.device == \"cpu\":\n",
    "    model.to(\"cuda\")"
   ]
  },
  {
   "cell_type": "code",
   "execution_count": null,
   "metadata": {},
   "outputs": [],
   "source": [
    "\n",
    "messages = [\n",
    "    {\n",
    "        \"role\": \"user\",\n",
    "        \"content\": [\n",
    "            {\"type\": \"image\"},\n",
    "            {\"type\": \"text\", \"text\": \"what is scaled dot product?\"},\n",
    "        ]\n",
    "    },\n",
    "]\n",
    "prompt = processor.apply_chat_template(messages, add_generation_prompt=True)\n",
    "\n",
    "inputs = processor(text=prompt, images=[image], padding=True, return_tensors=\"pt\")\n",
    "inputs = {k: v.to(DEVICE) for k, v in inputs.items()}\n",
    "\n",
    "generated_ids = model.generate(**inputs, max_new_tokens=500)\n",
    "generated_texts = processor.batch_decode(generated_ids, skip_special_tokens=True)\n"
   ]
  },
  {
   "cell_type": "code",
   "execution_count": null,
   "metadata": {},
   "outputs": [],
   "source": [
    "import textwrap\n",
    "\n",
    "generated_text = generated_texts[0]\n",
    "wrapped_text = \"\\n\".join(textwrap.wrap(generated_text, width=80))  # Adjust width as needed\n",
    "\n",
    "print(\"Gen_text:\\n\", wrapped_text)\n"
   ]
  },
  {
   "cell_type": "code",
   "execution_count": null,
   "metadata": {},
   "outputs": [],
   "source": [
    "import google.generativeai as genai\n",
    "\n",
    "\n",
    "genai.configure(api_key=api_key)\n",
    "model = genai.GenerativeModel(model_name=\"gemini-1.5-flash\")\n",
    "\n",
    "image = Image.open(image_path).convert('RGB')  \n",
    "response = model.generate_content([question, image])\n"
   ]
  },
  {
   "cell_type": "code",
   "execution_count": null,
   "metadata": {},
   "outputs": [],
   "source": []
  },
  {
   "cell_type": "code",
   "execution_count": null,
   "metadata": {},
   "outputs": [],
   "source": []
  }
 ],
 "metadata": {
  "language_info": {
   "name": "python"
  }
 },
 "nbformat": 4,
 "nbformat_minor": 2
}
