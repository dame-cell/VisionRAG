{
 "cells": [
  {
   "cell_type": "markdown",
   "metadata": {},
   "source": [
    "# Colpali RAG\n",
    "\n",
    "## Overview of colpali? \n",
    "- colpali is a another approach to RAG specifically for Multi-modality (Vision)\n",
    "- It is much faster than traditional approaches  \n",
    "- It directly embeds the entire images \n",
    "- the indexing with Colpali is very efficient and simple \n",
    "\n",
    "The architecture for the colpali Pipeline include "
   ]
  },
  {
   "cell_type": "markdown",
   "metadata": {},
   "source": [
    "## We first start with the offline Indexing \n",
    "\n",
    "<p align=\"center\">\n",
    "  <img src=\"/teamspace/studios/this_studio/VisionRAG/images/pdf_retriever.png\" alt=\"Offline indexing\" width=\"40%\">\n",
    "</p>\n"
   ]
  },
  {
   "cell_type": "markdown",
   "metadata": {},
   "source": [
    "Offline indexing with ColPali is much simpler and faster compared to standard retrieval methods\n",
    "\n",
    "<p align=\"center\">\n",
    "  <img src=\"/teamspace/studios/this_studio/VisionRAG/images/indexing.png\" alt=\"Offline indexing\" width=\"50%\">\n",
    "</p>"
   ]
  },
  {
   "cell_type": "code",
   "execution_count": null,
   "metadata": {},
   "outputs": [],
   "source": []
  }
 ],
 "metadata": {
  "language_info": {
   "name": "python"
  }
 },
 "nbformat": 4,
 "nbformat_minor": 2
}
